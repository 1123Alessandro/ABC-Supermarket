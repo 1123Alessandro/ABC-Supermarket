{
 "cells": [
  {
   "cell_type": "code",
   "execution_count": null,
   "id": "9cbce8a6-5208-4d9a-a8c8-29c3d246dcd5",
   "metadata": {},
   "outputs": [],
   "source": [
    "from sklearn.metrics import accuracy_score, precision_score, recall_score, f1_score, confusion_matrix, roc_auc_score\n",
    "from sklearn.model_selection import train_test_split\n",
    "from sklearn.linear_model import LogisticRegression\n",
    "from sklearn.preprocessing import StandardScaler\n",
    "import matplotlib.pyplot as plt\n",
    "import seaborn as sns\n",
    "import pandas as pd\n",
    "import numpy as np"
   ]
  },
  {
   "cell_type": "code",
   "execution_count": null,
   "id": "d2a33d45",
   "metadata": {},
   "outputs": [],
   "source": [
    "df = pd.read_excel('marketing_data.xlsx')"
   ]
  },
  {
   "cell_type": "code",
   "execution_count": null,
   "id": "5354dbdd",
   "metadata": {},
   "outputs": [],
   "source": [
    "df"
   ]
  },
  {
   "cell_type": "code",
   "execution_count": null,
   "id": "5a70891d",
   "metadata": {},
   "outputs": [],
   "source": [
    "df.shape"
   ]
  },
  {
   "cell_type": "markdown",
   "id": "bc1c001e",
   "metadata": {},
   "source": [
    "## EDA"
   ]
  },
  {
   "cell_type": "markdown",
   "id": "cbadaf36",
   "metadata": {},
   "source": [
    "The plots below show the skew with all of the `Mnt[.]+` columns"
   ]
  },
  {
   "cell_type": "code",
   "execution_count": null,
   "id": "806b05f1",
   "metadata": {},
   "outputs": [],
   "source": [
    "fig, axes = plt.subplots(2, 3, figsize=(10, 6))\n",
    "\n",
    "for ax, col in zip(axes.flat, ['MntWines', 'MntFishProducts', 'MntMeatProducts', 'MntFruits', 'MntGoldProds', 'MntSweetProducts']):\n",
    "  sns.kdeplot(df, x=col, fill=True, ax=ax)\n",
    "\n",
    "fig.tight_layout()\n",
    "plt.show()"
   ]
  },
  {
   "cell_type": "markdown",
   "id": "5ce2e439",
   "metadata": {},
   "source": [
    "The `Num[.]+` columns also have skewness"
   ]
  },
  {
   "cell_type": "markdown",
   "id": "2a0672c3",
   "metadata": {},
   "source": [
    "However, unlike the `Mnt[.]+` columns, they seem to descend much more slowly as the values increase"
   ]
  },
  {
   "cell_type": "markdown",
   "id": "d7cf647b",
   "metadata": {},
   "source": [
    "There might not be a need to remove outliers with these columns"
   ]
  },
  {
   "cell_type": "markdown",
   "id": "1776ac6d",
   "metadata": {},
   "source": [
    "Especially when compared to their `Response` type, the descent seems to be slightly maintained especially with `NumStorePurchases`"
   ]
  },
  {
   "cell_type": "code",
   "execution_count": null,
   "id": "f3bd63a5",
   "metadata": {},
   "outputs": [],
   "source": [
    "fig, axes = plt.subplots(2, 2, figsize=(10, 6))\n",
    "\n",
    "for ax, col in zip(axes.flat, ['NumDealsPurchases', 'NumCatalogPurchases', 'NumStorePurchases', 'NumWebPurchases']):\n",
    "  print(f'{col} skew: {df[col].skew()}')\n",
    "  sns.kdeplot(df, x=col, hue='Response', fill=True, ax=ax)\n",
    "\n",
    "fig.tight_layout()\n",
    "plt.show()"
   ]
  },
  {
   "cell_type": "markdown",
   "id": "25dcf99a",
   "metadata": {},
   "source": [
    "The `Response`s seem to increase around where `NumWebVisitsMonth` reaches around 5"
   ]
  },
  {
   "cell_type": "code",
   "execution_count": null,
   "id": "164d7756",
   "metadata": {},
   "outputs": [],
   "source": [
    "sns.kdeplot(df, x='NumWebVisitsMonth', fill=True, hue='Response')"
   ]
  },
  {
   "cell_type": "markdown",
   "id": "c6cf98a6",
   "metadata": {},
   "source": [
    "## Summary"
   ]
  },
  {
   "cell_type": "markdown",
   "id": "079d6610",
   "metadata": {},
   "source": [
    "Overall these columns all show a level of skewness with their data, it's recommended to remove outliers to provide a more consistent representation of data or perform other preprocessing that makes the models more robust to outliers"
   ]
  }
 ],
 "metadata": {
  "kernelspec": {
   "display_name": "Python 3 (ipykernel)",
   "language": "python",
   "name": "python3"
  },
  "language_info": {
   "codemirror_mode": {
    "name": "ipython",
    "version": 3
   },
   "file_extension": ".py",
   "mimetype": "text/x-python",
   "name": "python",
   "nbconvert_exporter": "python",
   "pygments_lexer": "ipython3",
   "version": "3.10.5"
  }
 },
 "nbformat": 4,
 "nbformat_minor": 5
}
