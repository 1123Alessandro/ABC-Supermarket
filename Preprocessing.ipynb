{
 "cells": [
  {
   "cell_type": "code",
   "execution_count": null,
   "id": "9719ce1c-878d-41da-be2b-3919e727136a",
   "metadata": {},
   "outputs": [],
   "source": [
    "import matplotlib.pyplot as plt\n",
    "import seaborn as sns\n",
    "import pandas as pd\n",
    "import numpy as np"
   ]
  },
  {
   "cell_type": "code",
   "execution_count": null,
   "id": "86f74428-8967-4ada-aef8-87982af69eaa",
   "metadata": {},
   "outputs": [],
   "source": [
    "df = pd.read_excel(\"marketing_data.xlsx\")"
   ]
  },
  {
   "cell_type": "code",
   "execution_count": null,
   "id": "18d3fdba-0962-4d11-837e-6b69546c1e7d",
   "metadata": {},
   "outputs": [],
   "source": [
    "df"
   ]
  },
  {
   "cell_type": "markdown",
   "id": "08255588-d662-42fa-b546-59e6385c6e90",
   "metadata": {},
   "source": [
    "## Preprocessing"
   ]
  },
  {
   "cell_type": "markdown",
   "id": "f625e194-02e6-4276-ad84-0a647b9b5f16",
   "metadata": {},
   "source": [
    "### Handling null values"
   ]
  },
  {
   "cell_type": "code",
   "execution_count": null,
   "id": "1ec0a9a6-03c9-4638-bf8a-fd0176ec06de",
   "metadata": {},
   "outputs": [],
   "source": [
    "df.isna().sum()"
   ]
  },
  {
   "cell_type": "markdown",
   "id": "7adeeb11-ec2f-4a62-b395-0fd849012191",
   "metadata": {},
   "source": [
    "Solutions in dealing with the null values\n",
    "\n",
    "- Fill null values of Income with the median of their respective groups\n",
    "- Fill null values of Income with 0\n",
    "- Remove rows with null values\n",
    "\n",
    "Sidenote: Since there is a weakl relationship between income and education + income and marital status based on previous testing, I chose the option removing rows with null values\n"
   ]
  },
  {
   "cell_type": "code",
   "execution_count": null,
   "id": "6f864648-ae0f-42d1-ace9-c6c737a23a20",
   "metadata": {},
   "outputs": [],
   "source": [
    "df = df.dropna(subset='Income').reset_index(drop=True)"
   ]
  },
  {
   "cell_type": "markdown",
   "id": "cadccf25-8264-4cdf-9b04-7fa5eec6a872",
   "metadata": {},
   "source": [
    "### Feature Engineering"
   ]
  },
  {
   "cell_type": "markdown",
   "id": "5ec85c1f-524a-41e7-bf15-7ccb83bd0903",
   "metadata": {},
   "source": [
    "Create `Total_children`"
   ]
  },
  {
   "cell_type": "code",
   "execution_count": null,
   "id": "5672c112-5ce3-4995-a5ae-36b120883f3c",
   "metadata": {},
   "outputs": [],
   "source": [
    "df = df.assign(Total_children=df.Kidhome + df.Teenhome)"
   ]
  },
  {
   "cell_type": "code",
   "execution_count": null,
   "id": "48d449db-308a-408a-a7ce-8391694ffeb1",
   "metadata": {},
   "outputs": [],
   "source": [
    "sns.barplot(df.Total_children.value_counts())"
   ]
  },
  {
   "cell_type": "markdown",
   "id": "508ff7cb-5c3e-4069-9625-e13234a4a648",
   "metadata": {},
   "source": [
    "Removing entries where someone's age could not be realistically alive today"
   ]
  },
  {
   "cell_type": "code",
   "execution_count": null,
   "id": "4aaebdf9",
   "metadata": {},
   "outputs": [],
   "source": [
    "print(np.sort(df.Year_Birth.unique()))\n",
    "print(df.Year_Birth.min())\n",
    "print(df.Year_Birth.max())"
   ]
  },
  {
   "cell_type": "code",
   "execution_count": null,
   "id": "aecfe841",
   "metadata": {},
   "outputs": [],
   "source": [
    "df = df[df.Year_Birth >= 1940]"
   ]
  },
  {
   "cell_type": "markdown",
   "id": "16d9271a",
   "metadata": {},
   "source": [
    "Convert `Dt_Customer` to datetime and create a column for days since they first became a customer"
   ]
  },
  {
   "cell_type": "code",
   "execution_count": null,
   "id": "3eb9e812",
   "metadata": {},
   "outputs": [],
   "source": [
    "df.Dt_Customer"
   ]
  },
  {
   "cell_type": "code",
   "execution_count": null,
   "id": "9bf0cd13",
   "metadata": {},
   "outputs": [],
   "source": [
    "from datetime import datetime\n",
    "\n",
    "df.Dt_Customer = pd.to_datetime(df.Dt_Customer)"
   ]
  },
  {
   "cell_type": "markdown",
   "id": "12831f7c",
   "metadata": {},
   "source": [
    "Checking for future dates"
   ]
  },
  {
   "cell_type": "code",
   "execution_count": null,
   "id": "bd8083da",
   "metadata": {},
   "outputs": [],
   "source": [
    "df[df.Dt_Customer > datetime.now()]"
   ]
  },
  {
   "cell_type": "markdown",
   "id": "8e320bc2",
   "metadata": {},
   "source": [
    "Checking for customer dates older than their age"
   ]
  },
  {
   "cell_type": "code",
   "execution_count": null,
   "id": "6bd79cbb",
   "metadata": {},
   "outputs": [],
   "source": [
    "df[df.Dt_Customer.dt.year < df.Year_Birth]"
   ]
  },
  {
   "cell_type": "code",
   "execution_count": null,
   "id": "576735f8",
   "metadata": {},
   "outputs": [],
   "source": [
    "curr_date = datetime.now()\n",
    "df['Days_Since_Customer'] = (curr_date - df.Dt_Customer).dt.days"
   ]
  },
  {
   "cell_type": "code",
   "execution_count": null,
   "id": "ec3f1cfb",
   "metadata": {},
   "outputs": [],
   "source": [
    "df.Days_Since_Customer"
   ]
  },
  {
   "cell_type": "markdown",
   "id": "1571e6a0",
   "metadata": {},
   "source": [
    "Dropping records where marital status are the following"
   ]
  },
  {
   "cell_type": "code",
   "execution_count": null,
   "id": "8d8da1d5",
   "metadata": {},
   "outputs": [],
   "source": [
    "df.drop(df[df.Marital_Status.isin(['YOLO', 'Absurd', 'Alone'])].index).reset_index(drop=True)"
   ]
  },
  {
   "cell_type": "markdown",
   "id": "3a0ca292",
   "metadata": {},
   "source": [
    "### Removing outliers"
   ]
  },
  {
   "cell_type": "markdown",
   "id": "b3adcf28",
   "metadata": {},
   "source": [
    "creating the function for removing outliers in continuous variables"
   ]
  },
  {
   "cell_type": "code",
   "execution_count": null,
   "id": "bd9abba9",
   "metadata": {},
   "outputs": [],
   "source": [
    "from scipy.stats import zscore\n",
    "\n",
    "def remove_outliers(data, column, z_thresh=2):\n",
    "    z_scores = np.abs(zscore(data[column], nan_policy='omit'))\n",
    "\n",
    "    non_outlier_indices = np.where(z_scores < z_thresh)[0]\n",
    "\n",
    "    print(data.shape)\n",
    "    no_outliers = data.iloc[non_outlier_indices]\n",
    "    print(no_outliers.shape)\n",
    "    return no_outliers"
   ]
  },
  {
   "cell_type": "markdown",
   "id": "53de586e",
   "metadata": {},
   "source": [
    "Removing outliers for `Mnt.*` columns"
   ]
  },
  {
   "cell_type": "code",
   "execution_count": null,
   "id": "6939c03e",
   "metadata": {},
   "outputs": [],
   "source": [
    "fig, axes = plt.subplots(2, 3, figsize=(10, 6))\n",
    "\n",
    "for ax, col in zip(axes.flat, ['MntWines', 'MntFishProducts', 'MntMeatProducts', 'MntFruits', 'MntGoldProds', 'MntSweetProducts']):\n",
    "  print(f'{col} skew: {df[col].skew()}')\n",
    "  sns.kdeplot(df, x=col, fill=True, ax=ax)\n",
    "\n",
    "fig.tight_layout()\n",
    "plt.show()"
   ]
  },
  {
   "cell_type": "code",
   "execution_count": null,
   "id": "fe22f61a",
   "metadata": {},
   "outputs": [],
   "source": [
    "for col in ['MntWines', 'MntFishProducts', 'MntMeatProducts', 'MntFruits', 'MntGoldProds', 'MntSweetProducts']:\n",
    "  df = remove_outliers(df, col)"
   ]
  },
  {
   "cell_type": "code",
   "execution_count": null,
   "id": "391a2646",
   "metadata": {},
   "outputs": [],
   "source": [
    "fig, axes = plt.subplots(2, 3, figsize=(10, 6))\n",
    "\n",
    "for ax, col in zip(axes.flat, ['MntWines', 'MntFishProducts', 'MntMeatProducts', 'MntFruits', 'MntGoldProds', 'MntSweetProducts']):\n",
    "  print(f'{col} skew: {df[col].skew()}')\n",
    "  sns.kdeplot(df, x=col, fill=True, ax=ax)\n",
    "\n",
    "fig.tight_layout()\n",
    "plt.show()"
   ]
  },
  {
   "cell_type": "markdown",
   "id": "21dbf742",
   "metadata": {},
   "source": [
    "Removing outliers for `Num.*` columns"
   ]
  },
  {
   "cell_type": "code",
   "execution_count": null,
   "id": "acf5454c",
   "metadata": {},
   "outputs": [],
   "source": [
    "fig, axes = plt.subplots(2, 2, figsize=(10, 6))\n",
    "\n",
    "for ax, col in zip(axes.flat, ['NumDealsPurchases', 'NumCatalogPurchases', 'NumStorePurchases', 'NumWebPurchases']):\n",
    "  print(f'{col} skew: {df[col].skew()}')\n",
    "  sns.kdeplot(df, x=col, hue='Response', fill=True, ax=ax)\n",
    "\n",
    "fig.tight_layout()\n",
    "plt.show()"
   ]
  },
  {
   "cell_type": "code",
   "execution_count": null,
   "id": "cf284a5b",
   "metadata": {},
   "outputs": [],
   "source": [
    "for col in ['NumDealsPurchases', 'NumCatalogPurchases', 'NumStorePurchases', 'NumWebPurchases']:\n",
    "  df = remove_outliers(df, col)"
   ]
  },
  {
   "cell_type": "code",
   "execution_count": null,
   "id": "f69f6be5",
   "metadata": {},
   "outputs": [],
   "source": [
    "fig, axes = plt.subplots(2, 2, figsize=(10, 6))\n",
    "\n",
    "for ax, col in zip(axes.flat, ['NumDealsPurchases', 'NumCatalogPurchases', 'NumStorePurchases', 'NumWebPurchases']):\n",
    "  print(f'{col} skew: {df[col].skew()}')\n",
    "  sns.kdeplot(df, x=col, hue='Response', fill=True, ax=ax)\n",
    "\n",
    "fig.tight_layout()\n",
    "plt.show()"
   ]
  },
  {
   "cell_type": "markdown",
   "id": "57889918",
   "metadata": {},
   "source": [
    "### One-Hot Encoding"
   ]
  },
  {
   "cell_type": "code",
   "execution_count": null,
   "id": "2b4b0fa8",
   "metadata": {},
   "outputs": [],
   "source": [
    "def one_hot_encode(data, column):\n",
    "    encoded = pd.get_dummies(data[column], prefix=column, drop_first=True)\n",
    "    data = data.drop(column, axis=1)\n",
    "    data = data.join(encoded)\n",
    "    return data"
   ]
  },
  {
   "cell_type": "code",
   "execution_count": null,
   "id": "32249920",
   "metadata": {},
   "outputs": [],
   "source": [
    "df = one_hot_encode(df, 'Education')\n",
    "df = one_hot_encode(df, 'Marital_Status')"
   ]
  },
  {
   "cell_type": "code",
   "execution_count": null,
   "id": "1cfb1376",
   "metadata": {},
   "outputs": [],
   "source": [
    "df"
   ]
  },
  {
   "cell_type": "markdown",
   "id": "80bb5fcc",
   "metadata": {},
   "source": [
    "### Interaction features"
   ]
  },
  {
   "cell_type": "code",
   "execution_count": null,
   "id": "f14bc3c0",
   "metadata": {},
   "outputs": [],
   "source": [
    "from sklearn.preprocessing import *\n",
    "\n",
    "sc = StandardScaler()"
   ]
  },
  {
   "cell_type": "markdown",
   "id": "3497b33c",
   "metadata": {},
   "source": [
    "## Testing"
   ]
  },
  {
   "cell_type": "code",
   "execution_count": null,
   "id": "76b6a32e",
   "metadata": {},
   "outputs": [],
   "source": [
    "from sklearn.model_selection import *\n",
    "\n",
    "X = df.drop('Response', axis=1)\n",
    "y = df.Response"
   ]
  },
  {
   "cell_type": "code",
   "execution_count": null,
   "id": "e0353ba6",
   "metadata": {},
   "outputs": [],
   "source": [
    "# kf = KFold(n_splits=9, shuffle=True)"
   ]
  },
  {
   "cell_type": "code",
   "execution_count": null,
   "id": "67a62611",
   "metadata": {},
   "outputs": [],
   "source": [
    "skf = StratifiedKFold(n_splits=5)"
   ]
  },
  {
   "cell_type": "code",
   "execution_count": null,
   "id": "b5990fd6",
   "metadata": {},
   "outputs": [],
   "source": [
    "for (train, test) in skf.split(X, y):\n",
    "  print(test.shape)"
   ]
  }
 ],
 "metadata": {
  "kernelspec": {
   "display_name": "Python 3 (ipykernel)",
   "language": "python",
   "name": "python3"
  },
  "language_info": {
   "codemirror_mode": {
    "name": "ipython",
    "version": 3
   },
   "file_extension": ".py",
   "mimetype": "text/x-python",
   "name": "python",
   "nbconvert_exporter": "python",
   "pygments_lexer": "ipython3",
   "version": "3.10.5"
  }
 },
 "nbformat": 4,
 "nbformat_minor": 5
}
